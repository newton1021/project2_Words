{
 "cells": [
  {
   "cell_type": "code",
   "execution_count": 1,
   "metadata": {
    "scrolled": false
   },
   "outputs": [],
   "source": [
    "# Dependencies\n",
    "import requests\n",
    "import json\n",
    "import config\n",
    "from random_word import RandomWords\n",
    "import pandas as pd"
   ]
  },
  {
   "cell_type": "code",
   "execution_count": 2,
   "metadata": {},
   "outputs": [
    {
     "data": {
      "text/html": [
       "<div>\n",
       "<style scoped>\n",
       "    .dataframe tbody tr th:only-of-type {\n",
       "        vertical-align: middle;\n",
       "    }\n",
       "\n",
       "    .dataframe tbody tr th {\n",
       "        vertical-align: top;\n",
       "    }\n",
       "\n",
       "    .dataframe thead th {\n",
       "        text-align: right;\n",
       "    }\n",
       "</style>\n",
       "<table border=\"1\" class=\"dataframe\">\n",
       "  <thead>\n",
       "    <tr style=\"text-align: right;\">\n",
       "      <th></th>\n",
       "      <th>Word</th>\n",
       "      <th>Definition</th>\n",
       "      <th>Etymology</th>\n",
       "      <th>Part_of_Speech</th>\n",
       "      <th>Date</th>\n",
       "      <th>Syllables</th>\n",
       "      <th>Phonetic</th>\n",
       "      <th>Offensive</th>\n",
       "    </tr>\n",
       "  </thead>\n",
       "  <tbody>\n",
       "  </tbody>\n",
       "</table>\n",
       "</div>"
      ],
      "text/plain": [
       "Empty DataFrame\n",
       "Columns: [Word, Definition, Etymology, Part_of_Speech, Date, Syllables, Phonetic, Offensive]\n",
       "Index: []"
      ]
     },
     "execution_count": 2,
     "metadata": {},
     "output_type": "execute_result"
    }
   ],
   "source": [
    "words = set()\n",
    "words_df = pd.DataFrame(columns=['Word','Definition', 'Etymology', 'Part_of_Speech', 'Date', 'Syllables', 'Phonetic', 'Offensive'])\n",
    "words_df"
   ]
  },
  {
   "cell_type": "code",
   "execution_count": 3,
   "metadata": {},
   "outputs": [
    {
     "name": "stdout",
     "output_type": "stream",
     "text": [
      "{'unselects', 'bisphosphonate', 'vibraphones', 'writedown', 'stackup', 'retroposition', 'hibernate', 'ADHD-PI', 'reside', 'goaded'}\n"
     ]
    }
   ],
   "source": [
    "word = RandomWords()\n",
    "\n",
    "# Return a single random word\n",
    "word.get_random_word()\n",
    "\n",
    "for x in range(10):\n",
    "    words.add(word.get_random_word())\n",
    "\n",
    "print(words)"
   ]
  },
  {
   "cell_type": "code",
   "execution_count": 4,
   "metadata": {},
   "outputs": [
    {
     "data": {
      "text/plain": [
       "'https://www.dictionaryapi.com/api/v3/references/collegiate/json/Banana?key=cb663abf-5418-4831-8784-25c757c5b4ed'"
      ]
     },
     "execution_count": 4,
     "metadata": {},
     "output_type": "execute_result"
    }
   ],
   "source": [
    "# URL for GET requests to retrieve vehicle data\n",
    "url = \"https://www.dictionaryapi.com/api/v3/references\"\n",
    "\n",
    "def dictionary(test_word):\n",
    "    return url + \"/collegiate/json/\" + test_word + \"?key=\" + config.API_KEY_Dictionary\n",
    "\n",
    "\n",
    "dictionary (\"Banana\")"
   ]
  },
  {
   "cell_type": "code",
   "execution_count": 17,
   "metadata": {
    "scrolled": true
   },
   "outputs": [],
   "source": [
    "def add_word(response):\n",
    "#     short_def = response[0]['shortdef']\n",
    "#     print(short_def)\n",
    "      word_id = response[0]['meta']['id']\n",
    "#     print(word_id)\n",
    "#     ety = response[0]['et'][0][1]\n",
    "#     print(ety)\n",
    "#     pos = response[0]['fl']\n",
    "#     print(pos)\n",
    "#     date = response[0]['date']\n",
    "#     print(date)\n",
    "#     syl = response[0]['hwi']['hw']\n",
    "#     print(syl)\n",
    "#     phen = response[0]['hwi']['prs'][0]['mw']\n",
    "#     print(phen)\n",
    "#     offensive = response[0]['meta']['offensive']\n",
    "#     print(offensive)\n",
    "      words_df = words_df.append({'Word':word_id,'Definition':short_def, 'Etymology':ety, 'Part_of_Speech':pos, 'Date':date, 'Syllables':syl, 'Phonetic':phen, 'Offensive':offensive},ignore_index=True)\n"
   ]
  },
  {
   "cell_type": "code",
   "execution_count": 23,
   "metadata": {
    "scrolled": true
   },
   "outputs": [
    {
     "name": "stdout",
     "output_type": "stream",
     "text": [
      "unselects\n",
      "unselects was skipped. Missing data.\n",
      "['unselected', 'deselects', 'unselective', 'selects', 'unsells', 'intellects', 'unselectively', 'preselects', 'unsealed', 'analects', 'unseals', 'deselect', 'unselfish', 'elects', 'unsell', 'inflects', 'unselling', 'insects', 'unslick', 'neglects']\n",
      "bisphosphonate\n",
      "bisphosphonate was skipped. Missing data.\n",
      "[{'meta': {'id': 'bisphosphonate', 'uuid': '69dde5fd-091c-48b6-8ba5-f026f638c9a4', 'sort': '020241900', 'src': 'collegiate', 'section': 'alpha', 'stems': ['bisphosphonate', 'bisphosphonates'], 'offensive': False}, 'hwi': {'hw': 'bis*phos*pho*nate', 'prs': [{'mw': 'ˌbis-ˈfäs-fə-ˌnāt', 'sound': {'audio': 'bispho01', 'ref': 'c', 'stat': '1'}}]}, 'fl': 'noun', 'def': [{'sseq': [[['sense', {'dt': [['text', '{bc}any of a group of drugs that slow the breakdown of bone by osteoclasts']]}]]]}], 'et': [['text', '{it}bis{/it} + {it}phosphon{/it}ic acid (an acid obtained from phosphine) + {et_link|-ate:1|-ate:1}']], 'date': '1961', 'shortdef': ['any of a group of drugs that slow the breakdown of bone by osteoclasts']}]\n",
      "vibraphones\n",
      "vibraphones was skipped. Missing data.\n",
      "[{'meta': {'id': 'vibraphone', 'uuid': '7e2ca715-a77c-4ab8-bb88-47c7d4ec5c3b', 'sort': '220075600', 'src': 'collegiate', 'section': 'alpha', 'stems': ['vibraphone', 'vibraphones', 'vibraphonist', 'vibraphonists'], 'offensive': False}, 'hwi': {'hw': 'vi*bra*phone', 'prs': [{'mw': 'ˈvī-brə-ˌfōn', 'sound': {'audio': 'vibrap01', 'ref': 'c', 'stat': '1'}}]}, 'fl': 'noun', 'def': [{'sseq': [[['sense', {'dt': [['text', '{bc}a percussion instrument resembling the xylophone but having metal bars and motor-driven resonators for sustaining the tone and producing a {a_link|vibrato}']]}]]]}], 'uros': [{'ure': 'vi*bra*phon*ist', 'prs': [{'mw': 'ˈvī-brə-ˌfō-nist', 'sound': {'audio': 'vibrap02', 'ref': 'c', 'stat': '1'}}], 'fl': 'noun'}], 'art': {'artid': 'vibrapho', 'capt': 'vibraphone'}, 'et': [['text', 'Latin {it}vibra{/it}re + International Scientific Vocabulary {it}-phone{/it}']], 'date': '1926', 'shortdef': ['a percussion instrument resembling the xylophone but having metal bars and motor-driven resonators for sustaining the tone and producing a vibrato']}]\n",
      "writedown\n",
      "writedown was skipped. Missing data.\n",
      "[{'meta': {'id': 'write-down', 'uuid': '9d6dfdf7-9746-41f0-9307-8eaa0380bfa3', 'sort': '230244900', 'src': 'collegiate', 'section': 'alpha', 'stems': ['write-down', 'write-downs'], 'offensive': False}, 'hwi': {'hw': 'write-down', 'prs': [{'mw': 'ˈrīt-ˌdau̇n', 'sound': {'audio': 'write01w', 'ref': 'c', 'stat': '1'}}]}, 'fl': 'noun', 'def': [{'sseq': [[['sense', {'dt': [['text', '{bc}a deliberate reduction in the book value of an asset (as to reflect the effect of obsolescence)']]}]]]}], 'date': '1932', 'shortdef': ['a deliberate reduction in the book value of an asset (as to reflect the effect of obsolescence)']}, {'meta': {'id': 'write down', 'uuid': '1fe46b8c-506d-4d58-8cf7-4bd7d590076a', 'sort': '230245000', 'src': 'collegiate', 'section': 'alpha', 'stems': ['write down', 'writes down', 'writing down', 'written down', 'wrote down'], 'offensive': False}, 'hwi': {'hw': 'write down'}, 'fl': 'verb', 'ins': [{'if': 'wrote down'}, {'if': 'writ*ten down'}, {'if': 'writ*ing down'}, {'if': 'writes down'}], 'def': [{'vd': 'transitive verb', 'sseq': [[['sense', {'sn': '1', 'dt': [['text', '{bc}to record in written form']]}]], [['sense', {'sn': '2 a', 'dt': [['text', '{bc}to depreciate, disparage, or injure by writing']]}], ['sense', {'sn': 'b', 'dt': [['text', '{bc}to reduce in status, rank, or value']], 'sdsense': {'sd': 'especially', 'dt': [['text', '{bc}to reduce the book value of']]}}]]]}, {'vd': 'intransitive verb', 'sseq': [[['sense', {'dt': [['text', '{bc}to write so as to appeal to a lower level of taste, comprehension, or intelligence']]}]]]}], 'date': '1588{ds|t|1||}', 'shortdef': ['to record in written form', 'to depreciate, disparage, or injure by writing', 'to reduce in status, rank, or value; especially : to reduce the book value of']}]\n",
      "stackup\n",
      "stackup was skipped. Missing data.\n",
      "[{'meta': {'id': 'stack up', 'uuid': 'f582d352-8f55-49b4-8166-7badb5564675', 'sort': '194732200', 'src': 'collegiate', 'section': 'alpha', 'stems': ['stack up', 'stacked up', 'stacking up', 'stacks up'], 'offensive': False}, 'hwi': {'hw': 'stack up'}, 'fl': 'verb', 'ins': [{'if': 'stacked up'}, {'if': 'stack*ing up'}, {'if': 'stacks up'}], 'def': [{'vd': 'intransitive verb', 'sseq': [[['sense', {'sn': '1', 'dt': [['text', '{bc}to add up {bc}{sx|total||}']]}]], [['sense', {'sn': '2', 'dt': [['text', '{bc}{sx|measure up||}, {sx|compare||} '], ['uns', [[['text', 'usually used with {it}against{/it}']]]]]}]]]}], 'date': '1896{ds||1||}', 'shortdef': ['to add up : total', 'measure up, compare —usually used with against']}]\n",
      "retroposition\n",
      "retroposition was skipped. Missing data.\n",
      "['retroflection', 'proposition', 'retroflections', 'recomposition', 'retribution', 'redisposition', 'retroflexion', 'reimposition', 'retroversion', 'reposition', 'retribalization', 'contraposition', 'retroperitoneal', 'fetal position', 'retribalizations', 'predisposition', 'retributions', 'presupposition', 'retrofiring', 'electrodeposition']\n",
      "hibernate\n",
      "hibernate was skipped. Missing data.\n",
      "[{'meta': {'id': 'hibernate', 'uuid': '7cde441c-00f5-4ab0-aad3-7292c5e22580', 'sort': '080172100', 'src': 'collegiate', 'section': 'alpha', 'stems': ['hibernate', 'hibernated', 'hibernates', 'hibernating', 'hibernation', 'hibernations', 'hibernator', 'hibernators'], 'offensive': False}, 'hwi': {'hw': 'hi*ber*nate', 'prs': [{'mw': 'ˈhī-bər-ˌnāt', 'sound': {'audio': 'hibern04', 'ref': 'c', 'stat': '1'}}]}, 'fl': 'verb', 'ins': [{'ifc': '-nat*ed', 'if': 'hi*ber*nat*ed'}, {'ifc': '-nat*ing', 'if': 'hi*ber*nat*ing'}], 'def': [{'vd': 'intransitive verb', 'sseq': [[['sense', {'sn': '1', 'dt': [['text', '{bc}to pass the winter in a {d_link|torpid|torpid} or resting state '], ['vis', [{'t': 'bears {it}hibernating{/it} in their dens'}]]]}]], [['sense', {'sn': '2', 'dt': [['text', '{bc}to be or become inactive or dormant '], ['vis', [{'t': 'let the computer {wi}hibernate{/wi}'}]]]}]]]}], 'uros': [{'ure': 'hi*ber*na*tion', 'prs': [{'mw': 'ˌhī-bər-ˈnā-shən', 'sound': {'audio': 'hibern05', 'ref': 'c', 'stat': '1'}}], 'fl': 'noun'}, {'ure': 'hi*ber*na*tor', 'prs': [{'mw': 'ˈhī-bər-ˌnā-tər', 'sound': {'audio': 'hibern06', 'ref': 'c', 'stat': '1'}}], 'fl': 'noun'}], 'et': [['text', 'Latin {it}hibernatus{/it}, past participle of {it}hibernare{/it} to pass the winter, from {it}hibernus{/it} of winter; akin to Latin {it}hiems{/it} winter, Greek {it}cheimōn{/it}']], 'date': '1816{ds||1||}', 'shortdef': ['to pass the winter in a torpid or resting state', 'to be or become inactive or dormant']}]\n",
      "ADHD-PI\n",
      "ADHD-PI was skipped. Missing data.\n",
      "[]\n",
      "reside\n",
      "reside was skipped. Missing data.\n",
      "[{'meta': {'id': 'reside', 'uuid': '21e9ab9b-0af3-42e7-b2a0-52a6898628dc', 'sort': '182430000', 'src': 'collegiate', 'section': 'alpha', 'stems': ['reside', 'resided', 'resider', 'residers', 'resides', 'residing'], 'offensive': False}, 'hwi': {'hw': 're*side', 'prs': [{'mw': 'ri-ˈzīd', 'sound': {'audio': 'reside01', 'ref': 'c', 'stat': '1'}}]}, 'fl': 'verb', 'ins': [{'if': 're*sid*ed'}, {'if': 're*sid*ing'}], 'def': [{'vd': 'intransitive verb', 'sseq': [[['sense', {'sn': '1 a', 'dt': [['text', '{bc}to be in {a_link|residence} as the incumbent of a benefice or office']]}], ['sense', {'sn': 'b', 'dt': [['text', \"{bc}to dwell permanently or continuously {bc}occupy a place as one's legal domicile\"]]}]], [['sense', {'sn': '2 a', 'dt': [['text', '{bc}to be present as an element or quality']]}], ['sense', {'sn': 'b', 'dt': [['text', '{bc}to be vested as a right']]}]]]}], 'uros': [{'ure': 're*sid*er', 'fl': 'noun'}], 'et': [['text', 'Middle English, from Middle French or Latin; Middle French {it}resider{/it}, from Latin {it}residēre{/it} to sit back, remain, abide, from {it}re-{/it} + {it}sedēre{/it} to sit {ma}{mat|sit|}{/ma}']], 'date': '15th century{ds||1|a|}', 'shortdef': ['to be in residence as the incumbent of a benefice or office', \"to dwell permanently or continuously : occupy a place as one's legal domicile\", 'to be present as an element or quality']}]\n",
      "goaded\n",
      "goaded was skipped. Missing data.\n",
      "[{'meta': {'id': 'goad:1', 'uuid': '145a97dd-d396-4ade-8811-aa4c4fc01b7a', 'sort': '071602000', 'src': 'collegiate', 'section': 'alpha', 'stems': ['goad', 'goaded', 'goading', 'goads'], 'offensive': False}, 'hom': 1, 'hwi': {'hw': 'goad', 'prs': [{'mw': 'ˈgōd', 'sound': {'audio': 'goad0001', 'ref': 'c', 'stat': '1'}}]}, 'fl': 'verb', 'ins': [{'if': 'goad*ed'}, {'if': 'goad*ing'}, {'if': 'goads'}], 'def': [{'vd': 'transitive verb', 'sseq': [[['sense', {'sn': '1', 'dt': [['text', '{bc}to incite or rouse as if with a goad {dx_def}see {dxt|goad:2||2a}{/dx_def} '], ['vis', [{'t': 'was {wi}goaded{/wi} into fighting with another player'}]]]}]], [['sense', {'sn': '2', 'dt': [['text', '{bc}to drive (an animal) with a goad {dx_def}see {dxt|goad:2||1}{/dx_def}']]}]]]}], 'et': [['text', '{dx_ety}see {dxt|goad:2||}{/dx_ety}']], 'date': '1579{ds||1||}', 'shortdef': ['to incite or rouse as if with a goad', 'to drive (an animal) with a goad']}]\n"
     ]
    }
   ],
   "source": [
    "# Pretty print JSON for all launchpads\n",
    "\n",
    "for word in list(words):\n",
    "    try:\n",
    "        print(word)\n",
    "        word_url = dictionary(word)\n",
    "        #print(word_url)\n",
    "        response = requests.get(word_url).json()\n",
    "        #print(json.dumps(response, indent=4, sort_keys=True))\n",
    "        add_word(response)\n",
    "    \n",
    "    except:\n",
    "        print(f'{word} was skipped. Missing data.')\n",
    "        print(response)"
   ]
  },
  {
   "cell_type": "code",
   "execution_count": 7,
   "metadata": {
    "scrolled": false
   },
   "outputs": [
    {
     "data": {
      "text/html": [
       "<div>\n",
       "<style scoped>\n",
       "    .dataframe tbody tr th:only-of-type {\n",
       "        vertical-align: middle;\n",
       "    }\n",
       "\n",
       "    .dataframe tbody tr th {\n",
       "        vertical-align: top;\n",
       "    }\n",
       "\n",
       "    .dataframe thead th {\n",
       "        text-align: right;\n",
       "    }\n",
       "</style>\n",
       "<table border=\"1\" class=\"dataframe\">\n",
       "  <thead>\n",
       "    <tr style=\"text-align: right;\">\n",
       "      <th></th>\n",
       "      <th>Word</th>\n",
       "      <th>Definition</th>\n",
       "      <th>Etymology</th>\n",
       "      <th>Part_of_Speech</th>\n",
       "      <th>Date</th>\n",
       "      <th>Syllables</th>\n",
       "      <th>Phonetic</th>\n",
       "      <th>Offensive</th>\n",
       "    </tr>\n",
       "  </thead>\n",
       "  <tbody>\n",
       "  </tbody>\n",
       "</table>\n",
       "</div>"
      ],
      "text/plain": [
       "Empty DataFrame\n",
       "Columns: [Word, Definition, Etymology, Part_of_Speech, Date, Syllables, Phonetic, Offensive]\n",
       "Index: []"
      ]
     },
     "execution_count": 7,
     "metadata": {},
     "output_type": "execute_result"
    }
   ],
   "source": [
    "words_df"
   ]
  },
  {
   "cell_type": "code",
   "execution_count": null,
   "metadata": {},
   "outputs": [],
   "source": []
  },
  {
   "cell_type": "code",
   "execution_count": null,
   "metadata": {},
   "outputs": [],
   "source": []
  }
 ],
 "metadata": {
  "kernelspec": {
   "display_name": "Python 3",
   "language": "python",
   "name": "python3"
  },
  "language_info": {
   "codemirror_mode": {
    "name": "ipython",
    "version": 3
   },
   "file_extension": ".py",
   "mimetype": "text/x-python",
   "name": "python",
   "nbconvert_exporter": "python",
   "pygments_lexer": "ipython3",
   "version": "3.8.5"
  }
 },
 "nbformat": 4,
 "nbformat_minor": 4
}
